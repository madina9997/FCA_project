{
  "nbformat": 4,
  "nbformat_minor": 0,
  "metadata": {
    "colab": {
      "name": "COVID experiments.ipynb",
      "provenance": [],
      "collapsed_sections": []
    },
    "kernelspec": {
      "name": "python3",
      "display_name": "Python 3"
    }
  },
  "cells": [
    {
      "cell_type": "code",
      "metadata": {
        "id": "A3BTVmL5jAA7",
        "colab_type": "code",
        "colab": {}
      },
      "source": [
        "import pandas as pd"
      ],
      "execution_count": 0,
      "outputs": []
    },
    {
      "cell_type": "code",
      "metadata": {
        "id": "sH_FIDVanEa0",
        "colab_type": "code",
        "colab": {}
      },
      "source": [
        "data = pd.read_excel('Таблица_2020-05-28_21-37.xlsx')"
      ],
      "execution_count": 0,
      "outputs": []
    },
    {
      "cell_type": "code",
      "metadata": {
        "id": "t9ERpGK0nKRU",
        "colab_type": "code",
        "outputId": "7d6ee5f7-e0c0-4212-a5c4-7e11febef754",
        "colab": {
          "base_uri": "https://localhost:8080/",
          "height": 67
        }
      },
      "source": [
        "print(data.columns)"
      ],
      "execution_count": 15,
      "outputs": [
        {
          "output_type": "stream",
          "text": [
            "Index(['Страна', 'Дата', 'Заражений', 'Выздоровлений', 'Смертей',\n",
            "       'Заражений за день', 'Выздоровлений за день', 'Смертей за день'],\n",
            "      dtype='object')\n"
          ],
          "name": "stdout"
        }
      ]
    },
    {
      "cell_type": "code",
      "metadata": {
        "id": "XnCziOEQnNpc",
        "colab_type": "code",
        "outputId": "c49fac68-f62f-4b36-c7eb-0c4cc997b253",
        "colab": {
          "base_uri": "https://localhost:8080/",
          "height": 252
        }
      },
      "source": [
        "print(data)"
      ],
      "execution_count": 16,
      "outputs": [
        {
          "output_type": "stream",
          "text": [
            "          Страна        Дата  ...  Выздоровлений за день  Смертей за день\n",
            "0      Австралия  22.01.2020  ...                      0                0\n",
            "1      Австралия  23.01.2020  ...                      0                0\n",
            "2      Австралия  24.01.2020  ...                      0                0\n",
            "3      Австралия  25.01.2020  ...                      0                0\n",
            "4      Австралия  26.01.2020  ...                      0                0\n",
            "...          ...         ...  ...                    ...              ...\n",
            "23744     Япония  23.05.2020  ...                    239               12\n",
            "23745     Япония  24.05.2020  ...                    169               12\n",
            "23746     Япония  25.05.2020  ...                    199               10\n",
            "23747     Япония  26.05.2020  ...                    198               16\n",
            "23748     Япония  27.05.2020  ...                    163               12\n",
            "\n",
            "[23749 rows x 8 columns]\n"
          ],
          "name": "stdout"
        }
      ]
    },
    {
      "cell_type": "code",
      "metadata": {
        "id": "TezVPqvkpwLd",
        "colab_type": "code",
        "colab": {}
      },
      "source": [
        "russia_data = pd.read_excel('РОССИЯ_Таблица_2020-05-28_21-58.xlsx')"
      ],
      "execution_count": 0,
      "outputs": []
    },
    {
      "cell_type": "code",
      "metadata": {
        "id": "Is4whuM6qDtc",
        "colab_type": "code",
        "colab": {
          "base_uri": "https://localhost:8080/",
          "height": 67
        },
        "outputId": "8963529e-97fd-482d-e504-1e727cf0f905"
      },
      "source": [
        "print(russia_data.columns)"
      ],
      "execution_count": 12,
      "outputs": [
        {
          "output_type": "stream",
          "text": [
            "Index(['Дата', 'Регион', 'Заражений', 'Выздоровлений', 'Смертей',\n",
            "       'Смертей за день', 'Заражений за день', 'Выздоровлений за день'],\n",
            "      dtype='object')\n"
          ],
          "name": "stdout"
        }
      ]
    },
    {
      "cell_type": "code",
      "metadata": {
        "id": "kShzfpagp-z8",
        "colab_type": "code",
        "colab": {
          "base_uri": "https://localhost:8080/",
          "height": 252
        },
        "outputId": "1f9fb984-5126-4449-fcac-1949d3f9cc5c"
      },
      "source": [
        "print(russia_data)"
      ],
      "execution_count": 13,
      "outputs": [
        {
          "output_type": "stream",
          "text": [
            "            Дата             Регион  ...  Заражений за день  Выздоровлений за день\n",
            "0     02.03.2020    Московская обл.  ...                  1                      0\n",
            "1     03.03.2020    Московская обл.  ...                  0                      0\n",
            "2     04.03.2020    Московская обл.  ...                  0                      0\n",
            "3     05.03.2020    Московская обл.  ...                  0                      0\n",
            "4     06.03.2020             Москва  ...                  5                      0\n",
            "...          ...                ...  ...                ...                    ...\n",
            "6648  28.05.2020              Чечня  ...                 22                     47\n",
            "6649  28.05.2020            Чувашия  ...                 81                    173\n",
            "6650  28.05.2020       Чукотский АО  ...                  3                      3\n",
            "6651  28.05.2020  Ямало-Ненецкий АО  ...                 47                     68\n",
            "6652  28.05.2020   Ярославская обл.  ...                 84                     37\n",
            "\n",
            "[6653 rows x 8 columns]\n"
          ],
          "name": "stdout"
        }
      ]
    },
    {
      "cell_type": "code",
      "metadata": {
        "id": "4b2AgDLTrz70",
        "colab_type": "code",
        "colab": {
          "base_uri": "https://localhost:8080/",
          "height": 34
        },
        "outputId": "7b346f72-211d-4081-a4d1-6ab00e4a5a43"
      },
      "source": [
        "print(type(russia_data['Дата'][0]))"
      ],
      "execution_count": 21,
      "outputs": [
        {
          "output_type": "stream",
          "text": [
            "<class 'str'>\n"
          ],
          "name": "stdout"
        }
      ]
    },
    {
      "cell_type": "code",
      "metadata": {
        "id": "N4dqvGqFqL8K",
        "colab_type": "code",
        "colab": {
          "base_uri": "https://localhost:8080/",
          "height": 50
        },
        "outputId": "2dbd0dcf-fea2-48df-f231-b97250ccce09"
      },
      "source": [
        "print(russia_data[(russia_data['Дата']=='28.05.2020') & ( russia_data['Регион']=='Москва')][['Дата','Регион','Заражений','Выздоровлений','Смертей','Заражений за день']])"
      ],
      "execution_count": 36,
      "outputs": [
        {
          "output_type": "stream",
          "text": [
            "            Дата  Регион  Заражений  Выздоровлений  Смертей  Заражений за день\n",
            "6609  28.05.2020  Москва     173497          71251     2254               2054\n"
          ],
          "name": "stdout"
        }
      ]
    }
  ]
}